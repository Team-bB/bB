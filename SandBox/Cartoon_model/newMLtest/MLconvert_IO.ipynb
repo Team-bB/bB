{
 "cells": [
  {
   "cell_type": "code",
   "execution_count": 1,
   "id": "3da31045",
   "metadata": {},
   "outputs": [
    {
     "name": "stderr",
     "output_type": "stream",
     "text": [
      "WARNING:root:TensorFlow version 2.5.0 detected. Last version known to be fully compatible is 2.3.1 .\n"
     ]
    }
   ],
   "source": [
    "import coremltools\n",
    "import coremltools.proto.FeatureTypes_pb2 as ft "
   ]
  },
  {
   "cell_type": "code",
   "execution_count": 2,
   "id": "e4fcfcf4",
   "metadata": {},
   "outputs": [],
   "source": [
    "spec = coremltools.utils.load_spec(\"cartoonFace.mlmodel\")"
   ]
  },
  {
   "cell_type": "code",
   "execution_count": 3,
   "id": "d8b91e98",
   "metadata": {},
   "outputs": [
    {
     "name": "stdout",
     "output_type": "stream",
     "text": [
      "input {\n",
      "  name: \"input\"\n",
      "  type {\n",
      "    multiArrayType {\n",
      "      shape: 1\n",
      "      shape: 256\n",
      "      shape: 256\n",
      "      shape: 3\n",
      "      dataType: FLOAT32\n",
      "    }\n",
      "  }\n",
      "}\n",
      "output {\n",
      "  name: \"Identity\"\n",
      "  type {\n",
      "    multiArrayType {\n",
      "      dataType: FLOAT32\n",
      "    }\n",
      "  }\n",
      "}\n",
      "metadata {\n",
      "  userDefined {\n",
      "    key: \"com.github.apple.coremltools.source\"\n",
      "    value: \"tensorflow==2.3.0\"\n",
      "  }\n",
      "  userDefined {\n",
      "    key: \"com.github.apple.coremltools.version\"\n",
      "    value: \"4.0b3\"\n",
      "  }\n",
      "}\n",
      "\n"
     ]
    }
   ],
   "source": [
    "print(spec.description)"
   ]
  },
  {
   "cell_type": "code",
   "execution_count": 4,
   "id": "3e845abb",
   "metadata": {},
   "outputs": [],
   "source": [
    "del spec.description.input[0].type.multiArrayType.shape[0:4]\n",
    "spec.description.input[0].type.multiArrayType.shape.extend([3,256,256])\n",
    "spec.description.output[0].type.multiArrayType.shape.extend([3, 256, 256])"
   ]
  },
  {
   "cell_type": "code",
   "execution_count": 5,
   "id": "cc59e7e4",
   "metadata": {},
   "outputs": [
    {
     "name": "stdout",
     "output_type": "stream",
     "text": [
      "input {\n",
      "  name: \"input\"\n",
      "  type {\n",
      "    multiArrayType {\n",
      "      shape: 3\n",
      "      shape: 256\n",
      "      shape: 256\n",
      "      dataType: FLOAT32\n",
      "    }\n",
      "  }\n",
      "}\n",
      "output {\n",
      "  name: \"Identity\"\n",
      "  type {\n",
      "    multiArrayType {\n",
      "      shape: 3\n",
      "      shape: 256\n",
      "      shape: 256\n",
      "      dataType: FLOAT32\n",
      "    }\n",
      "  }\n",
      "}\n",
      "metadata {\n",
      "  userDefined {\n",
      "    key: \"com.github.apple.coremltools.source\"\n",
      "    value: \"tensorflow==2.3.0\"\n",
      "  }\n",
      "  userDefined {\n",
      "    key: \"com.github.apple.coremltools.version\"\n",
      "    value: \"4.0b3\"\n",
      "  }\n",
      "}\n",
      "\n"
     ]
    }
   ],
   "source": [
    "print(spec.description)"
   ]
  },
  {
   "cell_type": "code",
   "execution_count": 6,
   "id": "854cee56",
   "metadata": {},
   "outputs": [],
   "source": [
    "# coremltools.utils.save_spec(spec, \"CartoonTest.mlmodel\")"
   ]
  },
  {
   "cell_type": "code",
   "execution_count": 7,
   "id": "1d10241c",
   "metadata": {},
   "outputs": [],
   "source": [
    "input = spec.description.input[0]\n",
    "input.type.imageType.colorSpace = ft.ImageFeatureType.RGB\n",
    "input.type.imageType.height = 255\n",
    "input.type.imageType.width = 255"
   ]
  },
  {
   "cell_type": "code",
   "execution_count": 8,
   "id": "e0917d88",
   "metadata": {},
   "outputs": [],
   "source": [
    "output = spec.description.output[0]\n",
    "output.type.imageType.colorSpace = ft.ImageFeatureType.RGB\n",
    "output.type.imageType.height = 255\n",
    "output.type.imageType.width = 255"
   ]
  },
  {
   "cell_type": "code",
   "execution_count": 9,
   "id": "a36f6f51",
   "metadata": {},
   "outputs": [],
   "source": [
    "coremltools.utils.save_spec(spec, \"CoreML_cartoonFace.mlmodel\")"
   ]
  },
  {
   "cell_type": "code",
   "execution_count": 10,
   "id": "b1ff3bda",
   "metadata": {},
   "outputs": [
    {
     "name": "stdout",
     "output_type": "stream",
     "text": [
      "input {\n",
      "  name: \"input\"\n",
      "  type {\n",
      "    imageType {\n",
      "      width: 255\n",
      "      height: 255\n",
      "      colorSpace: RGB\n",
      "    }\n",
      "  }\n",
      "}\n",
      "output {\n",
      "  name: \"Identity\"\n",
      "  type {\n",
      "    imageType {\n",
      "      width: 255\n",
      "      height: 255\n",
      "      colorSpace: RGB\n",
      "    }\n",
      "  }\n",
      "}\n",
      "metadata {\n",
      "  userDefined {\n",
      "    key: \"com.github.apple.coremltools.source\"\n",
      "    value: \"tensorflow==2.3.0\"\n",
      "  }\n",
      "  userDefined {\n",
      "    key: \"com.github.apple.coremltools.version\"\n",
      "    value: \"4.0b3\"\n",
      "  }\n",
      "}\n",
      "\n"
     ]
    }
   ],
   "source": [
    "print(spec.description)"
   ]
  },
  {
   "cell_type": "code",
   "execution_count": null,
   "id": "9ef3a18a",
   "metadata": {},
   "outputs": [],
   "source": []
  }
 ],
 "metadata": {
  "kernelspec": {
   "display_name": "Python 3",
   "language": "python",
   "name": "python3"
  },
  "language_info": {
   "codemirror_mode": {
    "name": "ipython",
    "version": 3
   },
   "file_extension": ".py",
   "mimetype": "text/x-python",
   "name": "python",
   "nbconvert_exporter": "python",
   "pygments_lexer": "ipython3",
   "version": "3.9.5"
  }
 },
 "nbformat": 4,
 "nbformat_minor": 5
}
